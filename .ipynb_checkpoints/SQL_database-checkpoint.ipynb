{
 "cells": [
  {
   "cell_type": "markdown",
   "metadata": {},
   "source": [
    "# Creating a PostgreSQL Database using Heroku\n",
    "\n",
    "Authors: Daniel Kim & Dae Han\n",
    "\n",
    "**To examine a real-life project application of this notebook, click here on Dae's [capstone](https://github.com/dae-han/nyc_homeless_pop_prediction/blob/master/production/1_Data_Wrangling%2BDatabase_Construction.ipynb). He built a time series model to forecast the total number of individuals sheltered by the NYC Department of Homeless Services (DHS).**"
   ]
  },
  {
   "cell_type": "markdown",
   "metadata": {},
   "source": [
    "**First, go to heroku and sign up for a free account -  https://www.heroku.com/postgres**\n",
    "\n",
    "**Click \"Create new app\"**\n",
    "\n",
    "<img src=\"./images/01_create_app.jpeg\" width=\"800\" height = \"900\">\n",
    "\n",
    "**Choose a descriptive and unique App name then click \"create app\"**\n",
    "<img src=\"./images/02_app_name.jpeg\" width=\"800\" height = \"900\">\n",
    "\n",
    "**Click on this [heroku add on link](https://elements.heroku.com/addons/heroku-postgresql) and click \"Install Heroku Postgres\"**\n",
    "<img src=\"./images/03_install.jpeg\" width=\"800\" height = \"900\">\n",
    "\n",
    "**Link the postgres add on to the app you just named.**\n",
    "<img src=\"./images/04_postgres.jpeg\" width=\"800\" height = \"900\">\n",
    "<img src=\"./images/05_add_provision.jpeg\" width=\"800\" height = \"900\">\n",
    "\n",
    "**Click on \"Heroku Postgres\" and go to the settings and click on the database credentials.**\n",
    "<img src=\"./images/06_creds.jpeg\" width=\"800\" height = \"900\">\n",
    "\n",
    "\n",
    "**<font color=\"red\">Note: Credentials are not permanent! There are other ways to obtain credentials, but this is just a simple example</font>**\n",
    "\n",
    "\n",
    "Store the URI in a json file named `creds.json`.\n",
    "\n",
    "The format in `creds.json` should be the following: ```{\"uri\" : \"your-uri-credentials\"}```. Take notice of the double quotations!\n",
    "\n",
    "**<font color=\"red\">DO NOT UPLOAD YOUR JSON FILE ONTO GITHUB! INCLUDE THE `creds.json` FILE IN THE GITIGNORE TEXT</font>**\n",
    "\n"
   ]
  },
  {
   "cell_type": "code",
   "execution_count": 1,
   "metadata": {},
   "outputs": [],
   "source": [
    "# Run this if you do not already have this installed:\n",
    "# pip install psycopg2-binary"
   ]
  },
  {
   "cell_type": "code",
   "execution_count": 13,
   "metadata": {},
   "outputs": [],
   "source": [
    "import json\n",
    "import pandas as pd\n",
    "import numpy as np\n",
    "import sqlalchemy as db\n",
    "import numpy as np\n",
    "import random\n",
    "\n",
    "random.seed(892) # to ensure everyone has the same random values"
   ]
  },
  {
   "cell_type": "code",
   "execution_count": 70,
   "metadata": {},
   "outputs": [],
   "source": [
    "# Load your PostgreSQL credential json file to `creds_file`\n",
    "creds_file = open('./creds.json', 'r')\n",
    "\n",
    "# Read in the json\n",
    "creds = json.loads(creds_file.read())"
   ]
  },
  {
   "cell_type": "markdown",
   "metadata": {},
   "source": [
    "**Sign into your database:**"
   ]
  },
  {
   "cell_type": "code",
   "execution_count": 166,
   "metadata": {},
   "outputs": [
    {
     "data": {
      "text/plain": [
       "<sqlalchemy.engine.result.ResultProxy at 0x11bda3d50>"
      ]
     },
     "execution_count": 166,
     "metadata": {},
     "output_type": "execute_result"
    }
   ],
   "source": [
    "engine = db.create_engine(creds['uri']) # load in the uri to the engine\n",
    "\n",
    "connection = engine.connect()\n",
    "metadata = db.MetaData()"
   ]
  },
  {
   "cell_type": "markdown",
   "metadata": {},
   "source": [
    "## Uploading your Pandas Dataframe to Postgres\n",
    "Let's say we have a random dataframe named `df` that we wish to upload:"
   ]
  },
  {
   "cell_type": "code",
   "execution_count": 146,
   "metadata": {},
   "outputs": [
    {
     "data": {
      "text/html": [
       "<div>\n",
       "<style scoped>\n",
       "    .dataframe tbody tr th:only-of-type {\n",
       "        vertical-align: middle;\n",
       "    }\n",
       "\n",
       "    .dataframe tbody tr th {\n",
       "        vertical-align: top;\n",
       "    }\n",
       "\n",
       "    .dataframe thead th {\n",
       "        text-align: right;\n",
       "    }\n",
       "</style>\n",
       "<table border=\"1\" class=\"dataframe\">\n",
       "  <thead>\n",
       "    <tr style=\"text-align: right;\">\n",
       "      <th></th>\n",
       "      <th>potato_weight</th>\n",
       "      <th>potato_height</th>\n",
       "      <th>potato_color</th>\n",
       "      <th>potato_quality</th>\n",
       "      <th>potato_price</th>\n",
       "    </tr>\n",
       "  </thead>\n",
       "  <tbody>\n",
       "    <tr>\n",
       "      <td>0</td>\n",
       "      <td>57</td>\n",
       "      <td>9.529</td>\n",
       "      <td>purple</td>\n",
       "      <td>good</td>\n",
       "      <td>8</td>\n",
       "    </tr>\n",
       "    <tr>\n",
       "      <td>1</td>\n",
       "      <td>44</td>\n",
       "      <td>4.300</td>\n",
       "      <td>brown</td>\n",
       "      <td>excellent</td>\n",
       "      <td>3</td>\n",
       "    </tr>\n",
       "    <tr>\n",
       "      <td>2</td>\n",
       "      <td>78</td>\n",
       "      <td>29.584</td>\n",
       "      <td>red</td>\n",
       "      <td>excellent</td>\n",
       "      <td>2</td>\n",
       "    </tr>\n",
       "    <tr>\n",
       "      <td>3</td>\n",
       "      <td>56</td>\n",
       "      <td>47.746</td>\n",
       "      <td>purple</td>\n",
       "      <td>good</td>\n",
       "      <td>7</td>\n",
       "    </tr>\n",
       "    <tr>\n",
       "      <td>4</td>\n",
       "      <td>46</td>\n",
       "      <td>13.176</td>\n",
       "      <td>red</td>\n",
       "      <td>excellent</td>\n",
       "      <td>9</td>\n",
       "    </tr>\n",
       "  </tbody>\n",
       "</table>\n",
       "</div>"
      ],
      "text/plain": [
       "   potato_weight  potato_height potato_color potato_quality  potato_price\n",
       "0             57          9.529       purple           good             8\n",
       "1             44          4.300        brown      excellent             3\n",
       "2             78         29.584          red      excellent             2\n",
       "3             56         47.746       purple           good             7\n",
       "4             46         13.176          red      excellent             9"
      ]
     },
     "execution_count": 146,
     "metadata": {},
     "output_type": "execute_result"
    }
   ],
   "source": [
    "p_weight = [random.randint(0,100) for _ in range(10)]\n",
    "p_height = [round(random.uniform(0,50),3) for _ in range(10)]\n",
    "p_color = [random.choice(['red', 'brown', 'purple']) for _ in range(10)]\n",
    "p_quality = [random.choice(['excellent', 'good', 'average', 'ew']) for _ in range(10)]\n",
    "p_price = [random.randint(0,10) for _ in range(10)]\n",
    "\n",
    "df = pd.DataFrame({'potato_weight': p_weight,  \n",
    "              'potato_height': p_height,\n",
    "              'potato_color': p_color,\n",
    "              'potato_quality': p_quality,\n",
    "              'potato_price': p_price\n",
    "             })\n",
    "\n",
    "df.head()"
   ]
  },
  {
   "cell_type": "markdown",
   "metadata": {},
   "source": [
    "Notice how some columns are integers, objects, and floats!"
   ]
  },
  {
   "cell_type": "code",
   "execution_count": 147,
   "metadata": {},
   "outputs": [
    {
     "data": {
      "text/plain": [
       "potato_weight       int64\n",
       "potato_height     float64\n",
       "potato_color       object\n",
       "potato_quality     object\n",
       "potato_price        int64\n",
       "dtype: object"
      ]
     },
     "execution_count": 147,
     "metadata": {},
     "output_type": "execute_result"
    }
   ],
   "source": [
    "df.dtypes"
   ]
  },
  {
   "cell_type": "markdown",
   "metadata": {},
   "source": [
    "To create our SQL table, we will need to name the table, in this case, the table name is `sample_table`. We will also need to specify the name of the columns and their datatypes! The for-loop below grabs the columns in our `df` dataframe and their corresponding SQL datatypes (INT, TEXT, FLOAT). There are more SQL datatypes but these are the ones that correspond to our example dataframe."
   ]
  },
  {
   "cell_type": "code",
   "execution_count": 148,
   "metadata": {},
   "outputs": [
    {
     "data": {
      "text/plain": [
       "'(potato_weight INT, potato_height FLOAT, potato_color TEXT, potato_quality TEXT, potato_price INT)'"
      ]
     },
     "execution_count": 148,
     "metadata": {},
     "output_type": "execute_result"
    }
   ],
   "source": [
    "# Grabbing column names and their datatypes:\n",
    "columns_to_add = ''\n",
    "\n",
    "for name, datatype in zip(df.columns, list(df.dtypes.values)): \n",
    "    if datatype == int:\n",
    "        columns_to_add += f'{name} INT, '\n",
    "    elif datatype == object:\n",
    "        columns_to_add += f'{name} TEXT, '\n",
    "    elif datatype == float:\n",
    "        columns_to_add += f'{name} FLOAT, '\n",
    "\n",
    "columns_to_add = \"(\" + columns_to_add.strip(', ') + \")\"\n",
    "columns_to_add"
   ]
  },
  {
   "cell_type": "markdown",
   "metadata": {},
   "source": [
    "We have successfully grabbed the columns and their datatypes!\n",
    "\n",
    "Now we will create our table by running our first SQL query!\n",
    "```SQL\n",
    "CREATE TABLE sample_table (potato_weight INT, potato_height INT, potato_color TEXT, potato_quality TEXT, potato_price INT)\n",
    "```"
   ]
  },
  {
   "cell_type": "code",
   "execution_count": 149,
   "metadata": {},
   "outputs": [
    {
     "data": {
      "text/plain": [
       "'CREATE TABLE sample_table (potato_weight INT, potato_height FLOAT, potato_color TEXT, potato_quality TEXT, potato_price INT)'"
      ]
     },
     "execution_count": 149,
     "metadata": {},
     "output_type": "execute_result"
    }
   ],
   "source": [
    "query = f'CREATE TABLE sample_table {columns_to_add}'\n",
    "query"
   ]
  },
  {
   "cell_type": "markdown",
   "metadata": {},
   "source": [
    "For any SQL query we want to run, we will have to use `connection.execute()`"
   ]
  },
  {
   "cell_type": "code",
   "execution_count": 154,
   "metadata": {},
   "outputs": [
    {
     "data": {
      "text/plain": [
       "<sqlalchemy.engine.result.ResultProxy at 0x11bda3210>"
      ]
     },
     "execution_count": 154,
     "metadata": {},
     "output_type": "execute_result"
    }
   ],
   "source": [
    "connection.execute(query) # execute sql query"
   ]
  },
  {
   "cell_type": "markdown",
   "metadata": {},
   "source": [
    "Now we have a created an empty SQL table that has the same columns as our `df` dataframe.\n",
    "\n",
    "#### **How to insert values into the table.**\n",
    "\n",
    "I am going to create an array of tuples. Each tuple contains each row's values."
   ]
  },
  {
   "cell_type": "code",
   "execution_count": 151,
   "metadata": {},
   "outputs": [
    {
     "data": {
      "text/html": [
       "<div>\n",
       "<style scoped>\n",
       "    .dataframe tbody tr th:only-of-type {\n",
       "        vertical-align: middle;\n",
       "    }\n",
       "\n",
       "    .dataframe tbody tr th {\n",
       "        vertical-align: top;\n",
       "    }\n",
       "\n",
       "    .dataframe thead th {\n",
       "        text-align: right;\n",
       "    }\n",
       "</style>\n",
       "<table border=\"1\" class=\"dataframe\">\n",
       "  <thead>\n",
       "    <tr style=\"text-align: right;\">\n",
       "      <th></th>\n",
       "      <th>potato_weight</th>\n",
       "      <th>potato_height</th>\n",
       "      <th>potato_color</th>\n",
       "      <th>potato_quality</th>\n",
       "      <th>potato_price</th>\n",
       "    </tr>\n",
       "  </thead>\n",
       "  <tbody>\n",
       "    <tr>\n",
       "      <td>0</td>\n",
       "      <td>57</td>\n",
       "      <td>9.529</td>\n",
       "      <td>purple</td>\n",
       "      <td>good</td>\n",
       "      <td>8</td>\n",
       "    </tr>\n",
       "  </tbody>\n",
       "</table>\n",
       "</div>"
      ],
      "text/plain": [
       "   potato_weight  potato_height potato_color potato_quality  potato_price\n",
       "0             57          9.529       purple           good             8"
      ]
     },
     "execution_count": 151,
     "metadata": {},
     "output_type": "execute_result"
    }
   ],
   "source": [
    "df.head(1)"
   ]
  },
  {
   "cell_type": "code",
   "execution_count": 152,
   "metadata": {},
   "outputs": [
    {
     "data": {
      "text/plain": [
       "(57, 9.529, 'purple', 'good', 8)"
      ]
     },
     "execution_count": 152,
     "metadata": {},
     "output_type": "execute_result"
    }
   ],
   "source": [
    "# example, this is the first row's values in tuple form.\n",
    "tuple(df.loc[0].values)"
   ]
  },
  {
   "cell_type": "markdown",
   "metadata": {},
   "source": [
    "I am going to grab each row's information in tuples form in the for-loop below!"
   ]
  },
  {
   "cell_type": "code",
   "execution_count": 153,
   "metadata": {},
   "outputs": [
    {
     "data": {
      "text/plain": [
       "[(57, 9.529, 'purple', 'good', 8),\n",
       " (44, 4.3, 'brown', 'excellent', 3),\n",
       " (78, 29.584, 'red', 'excellent', 2),\n",
       " (56, 47.746, 'purple', 'good', 7),\n",
       " (46, 13.176, 'red', 'excellent', 9),\n",
       " (39, 3.161, 'brown', 'good', 4),\n",
       " (16, 19.265, 'brown', 'good', 2),\n",
       " (70, 38.046, 'purple', 'excellent', 0),\n",
       " (79, 13.009, 'brown', 'average', 4),\n",
       " (54, 48.964, 'purple', 'excellent', 0)]"
      ]
     },
     "execution_count": 153,
     "metadata": {},
     "output_type": "execute_result"
    }
   ],
   "source": [
    "values_to_add = []\n",
    "\n",
    "for pos in range(len(df)):\n",
    "    values_to_add.append(tuple(df.loc[pos].values))\n",
    "    \n",
    "values_to_add"
   ]
  },
  {
   "cell_type": "markdown",
   "metadata": {},
   "source": [
    "Now we are going to insert each row from our `df` dataframe into our SQL `sample_table` table. The following SQL query format is:\n",
    "```SQL\n",
    "INSERT INTO sample_tables VALUES (57, 9.529, 'purple', 'good', 8)\n",
    "```"
   ]
  },
  {
   "cell_type": "code",
   "execution_count": 155,
   "metadata": {},
   "outputs": [],
   "source": [
    "for values in values_to_add:\n",
    "    query = f'INSERT INTO sample_table VALUES {str(values)}'\n",
    "    connection.execute(query)\n"
   ]
  },
  {
   "cell_type": "markdown",
   "metadata": {},
   "source": [
    "Nice! We have successfully uploaded all of our data onto our Heroku postgreSQL server. Let's examine the data."
   ]
  },
  {
   "cell_type": "code",
   "execution_count": 162,
   "metadata": {},
   "outputs": [
    {
     "data": {
      "text/html": [
       "<div>\n",
       "<style scoped>\n",
       "    .dataframe tbody tr th:only-of-type {\n",
       "        vertical-align: middle;\n",
       "    }\n",
       "\n",
       "    .dataframe tbody tr th {\n",
       "        vertical-align: top;\n",
       "    }\n",
       "\n",
       "    .dataframe thead th {\n",
       "        text-align: right;\n",
       "    }\n",
       "</style>\n",
       "<table border=\"1\" class=\"dataframe\">\n",
       "  <thead>\n",
       "    <tr style=\"text-align: right;\">\n",
       "      <th></th>\n",
       "      <th>count</th>\n",
       "    </tr>\n",
       "  </thead>\n",
       "  <tbody>\n",
       "    <tr>\n",
       "      <td>0</td>\n",
       "      <td>10</td>\n",
       "    </tr>\n",
       "  </tbody>\n",
       "</table>\n",
       "</div>"
      ],
      "text/plain": [
       "   count\n",
       "0     10"
      ]
     },
     "execution_count": 162,
     "metadata": {},
     "output_type": "execute_result"
    }
   ],
   "source": [
    "query = \"\"\"\n",
    "SELECT COUNT(*) \n",
    "FROM sample_table\n",
    "\"\"\"\n",
    "\n",
    "pd.read_sql_query(query, engine)"
   ]
  },
  {
   "cell_type": "markdown",
   "metadata": {},
   "source": [
    "There are 10 rows of data. Be warned that the free postgreSQL server's limit is 10,000 rows!\n",
    "<img src=\"./images/07_limit.jpeg\" width=\"800\" height = \"900\">"
   ]
  },
  {
   "cell_type": "code",
   "execution_count": 163,
   "metadata": {},
   "outputs": [],
   "source": [
    "# Grabbing all columns from sample_table\n",
    "query = \"\"\"\n",
    "SELECT *\n",
    "FROM sample_table\n",
    "\"\"\""
   ]
  },
  {
   "cell_type": "code",
   "execution_count": 164,
   "metadata": {},
   "outputs": [],
   "source": [
    "# Storing queried table as a dataframe!\n",
    "database_df = pd.read_sql_query(query, engine)"
   ]
  },
  {
   "cell_type": "code",
   "execution_count": 158,
   "metadata": {},
   "outputs": [
    {
     "data": {
      "text/html": [
       "<div>\n",
       "<style scoped>\n",
       "    .dataframe tbody tr th:only-of-type {\n",
       "        vertical-align: middle;\n",
       "    }\n",
       "\n",
       "    .dataframe tbody tr th {\n",
       "        vertical-align: top;\n",
       "    }\n",
       "\n",
       "    .dataframe thead th {\n",
       "        text-align: right;\n",
       "    }\n",
       "</style>\n",
       "<table border=\"1\" class=\"dataframe\">\n",
       "  <thead>\n",
       "    <tr style=\"text-align: right;\">\n",
       "      <th></th>\n",
       "      <th>potato_weight</th>\n",
       "      <th>potato_height</th>\n",
       "      <th>potato_color</th>\n",
       "      <th>potato_quality</th>\n",
       "      <th>potato_price</th>\n",
       "    </tr>\n",
       "  </thead>\n",
       "  <tbody>\n",
       "    <tr>\n",
       "      <td>0</td>\n",
       "      <td>57</td>\n",
       "      <td>9.529</td>\n",
       "      <td>purple</td>\n",
       "      <td>good</td>\n",
       "      <td>8</td>\n",
       "    </tr>\n",
       "    <tr>\n",
       "      <td>1</td>\n",
       "      <td>44</td>\n",
       "      <td>4.300</td>\n",
       "      <td>brown</td>\n",
       "      <td>excellent</td>\n",
       "      <td>3</td>\n",
       "    </tr>\n",
       "    <tr>\n",
       "      <td>2</td>\n",
       "      <td>78</td>\n",
       "      <td>29.584</td>\n",
       "      <td>red</td>\n",
       "      <td>excellent</td>\n",
       "      <td>2</td>\n",
       "    </tr>\n",
       "    <tr>\n",
       "      <td>3</td>\n",
       "      <td>56</td>\n",
       "      <td>47.746</td>\n",
       "      <td>purple</td>\n",
       "      <td>good</td>\n",
       "      <td>7</td>\n",
       "    </tr>\n",
       "    <tr>\n",
       "      <td>4</td>\n",
       "      <td>46</td>\n",
       "      <td>13.176</td>\n",
       "      <td>red</td>\n",
       "      <td>excellent</td>\n",
       "      <td>9</td>\n",
       "    </tr>\n",
       "    <tr>\n",
       "      <td>5</td>\n",
       "      <td>39</td>\n",
       "      <td>3.161</td>\n",
       "      <td>brown</td>\n",
       "      <td>good</td>\n",
       "      <td>4</td>\n",
       "    </tr>\n",
       "    <tr>\n",
       "      <td>6</td>\n",
       "      <td>16</td>\n",
       "      <td>19.265</td>\n",
       "      <td>brown</td>\n",
       "      <td>good</td>\n",
       "      <td>2</td>\n",
       "    </tr>\n",
       "    <tr>\n",
       "      <td>7</td>\n",
       "      <td>70</td>\n",
       "      <td>38.046</td>\n",
       "      <td>purple</td>\n",
       "      <td>excellent</td>\n",
       "      <td>0</td>\n",
       "    </tr>\n",
       "    <tr>\n",
       "      <td>8</td>\n",
       "      <td>79</td>\n",
       "      <td>13.009</td>\n",
       "      <td>brown</td>\n",
       "      <td>average</td>\n",
       "      <td>4</td>\n",
       "    </tr>\n",
       "    <tr>\n",
       "      <td>9</td>\n",
       "      <td>54</td>\n",
       "      <td>48.964</td>\n",
       "      <td>purple</td>\n",
       "      <td>excellent</td>\n",
       "      <td>0</td>\n",
       "    </tr>\n",
       "  </tbody>\n",
       "</table>\n",
       "</div>"
      ],
      "text/plain": [
       "   potato_weight  potato_height potato_color potato_quality  potato_price\n",
       "0             57          9.529       purple           good             8\n",
       "1             44          4.300        brown      excellent             3\n",
       "2             78         29.584          red      excellent             2\n",
       "3             56         47.746       purple           good             7\n",
       "4             46         13.176          red      excellent             9\n",
       "5             39          3.161        brown           good             4\n",
       "6             16         19.265        brown           good             2\n",
       "7             70         38.046       purple      excellent             0\n",
       "8             79         13.009        brown        average             4\n",
       "9             54         48.964       purple      excellent             0"
      ]
     },
     "execution_count": 158,
     "metadata": {},
     "output_type": "execute_result"
    }
   ],
   "source": [
    "database_df"
   ]
  },
  {
   "cell_type": "markdown",
   "metadata": {},
   "source": [
    "`df` and `database_df` are exactly the same!"
   ]
  },
  {
   "cell_type": "code",
   "execution_count": 159,
   "metadata": {},
   "outputs": [
    {
     "data": {
      "text/plain": [
       "True"
      ]
     },
     "execution_count": 159,
     "metadata": {},
     "output_type": "execute_result"
    }
   ],
   "source": [
    "all(database_df) == all(df)"
   ]
  },
  {
   "cell_type": "code",
   "execution_count": 74,
   "metadata": {},
   "outputs": [],
   "source": [
    "# TO REMOVE TABLE FROM SERVER:\n",
    "#connection.execute(\"DROP TABLE IF EXISTS sample_table\")"
   ]
  }
 ],
 "metadata": {
  "kernelspec": {
   "display_name": "Python 3",
   "language": "python",
   "name": "python3"
  },
  "language_info": {
   "codemirror_mode": {
    "name": "ipython",
    "version": 3
   },
   "file_extension": ".py",
   "mimetype": "text/x-python",
   "name": "python",
   "nbconvert_exporter": "python",
   "pygments_lexer": "ipython3",
   "version": "3.7.4"
  }
 },
 "nbformat": 4,
 "nbformat_minor": 4
}
